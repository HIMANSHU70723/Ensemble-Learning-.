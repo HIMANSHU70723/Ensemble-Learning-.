{
  "nbformat": 4,
  "nbformat_minor": 0,
  "metadata": {
    "colab": {
      "provenance": []
    },
    "kernelspec": {
      "name": "python3",
      "display_name": "Python 3"
    },
    "language_info": {
      "name": "python"
    }
  },
  "cells": [
    {
      "cell_type": "code",
      "execution_count": 1,
      "metadata": {
        "colab": {
          "base_uri": "https://localhost:8080/"
        },
        "id": "v7_YOjo3J3xX",
        "outputId": "42662e79-34c5-4fc4-bbf3-b1e320465ad1"
      },
      "outputs": [
        {
          "output_type": "stream",
          "name": "stdout",
          "text": [
            "Model accuracy: 0.6\n"
          ]
        }
      ],
      "source": [
        "# 1. Train a Bagging Classifier using Decision Trees on a sample dataset and print model accuracy\n",
        "from sklearn.ensemble import BaggingClassifier\n",
        "from sklearn.tree import DecisionTreeClassifier\n",
        "from sklearn.model_selection import train_test_split\n",
        "from sklearn.metrics import accuracy_score\n",
        "import numpy as np\n",
        "\n",
        "# 1. Create a sample dataset\n",
        "X = np.random.rand(100, 10)  # 100 samples, 10 features\n",
        "y = np.random.randint(0, 2, 100) # 100 samples, 2 classes\n",
        "\n",
        "# 2. Split the data into training and testing sets\n",
        "X_train, X_test, y_train, y_test = train_test_split(X, y, test_size=0.2, random_state=42)\n",
        "\n",
        "# 3. Define the base estimator (Decision Tree)\n",
        "base_estimator = DecisionTreeClassifier()\n",
        "\n",
        "# 4. Define the Bagging Classifier\n",
        "# n_estimators is the number of base estimators in the ensemble\n",
        "bagging_classifier = BaggingClassifier(estimator=base_estimator, n_estimators=10, random_state=42)\n",
        "\n",
        "# 5. Train the Bagging Classifier\n",
        "bagging_classifier.fit(X_train, y_train)\n",
        "\n",
        "# 6. Make predictions on the test set\n",
        "y_pred = bagging_classifier.predict(X_test)\n",
        "\n",
        "# 7. Calculate and print the accuracy\n",
        "accuracy = accuracy_score(y_test, y_pred)\n",
        "print(f\"Model accuracy: {accuracy}\")"
      ]
    },
    {
      "cell_type": "code",
      "source": [
        "# 2. Train a Bagging Regressor using Decision Trees and evaluate using Mean Squared Error (MSE)\n",
        "from sklearn.ensemble import BaggingRegressor\n",
        "from sklearn.tree import DecisionTreeRegressor\n",
        "from sklearn.model_selection import train_test_split\n",
        "from sklearn.metrics import mean_squared_error\n",
        "import numpy as np\n",
        "\n",
        "# 1. Create a sample dataset for regression\n",
        "X = np.random.rand(100, 10)  # 100 samples, 10 features\n",
        "y = np.random.rand(100) * 100  # 100 samples, continuous target variable\n",
        "\n",
        "# 2. Split the data into training and testing sets\n",
        "X_train, X_test, y_train, y_test = train_test_split(X, y, test_size=0.2, random_state=42)\n",
        "\n",
        "# 3. Define the base estimator (Decision Tree Regressor)\n",
        "base_estimator = DecisionTreeRegressor()\n",
        "\n",
        "# 4. Define the Bagging Regressor\n",
        "# n_estimators is the number of base estimators in the ensemble\n",
        "bagging_regressor = BaggingRegressor(estimator=base_estimator, n_estimators=10, random_state=42)\n",
        "\n",
        "# 5. Train the Bagging Regressor\n",
        "bagging_regressor.fit(X_train, y_train)\n",
        "\n",
        "# 6. Make predictions on the test set\n",
        "y_pred = bagging_regressor.predict(X_test)\n",
        "\n",
        "# 7. Calculate and print the Mean Squared Error (MSE)\n",
        "mse = mean_squared_error(y_test, y_pred)\n",
        "print(f\"Model Mean Squared Error (MSE): {mse}\")"
      ],
      "metadata": {
        "colab": {
          "base_uri": "https://localhost:8080/"
        },
        "id": "9rvogwXvJ58L",
        "outputId": "f0482b7b-a415-441c-9fd0-9cbc428d3fa0"
      },
      "execution_count": 2,
      "outputs": [
        {
          "output_type": "stream",
          "name": "stdout",
          "text": [
            "Model Mean Squared Error (MSE): 1141.8022614213596\n"
          ]
        }
      ]
    },
    {
      "cell_type": "code",
      "source": [
        "# 3. Train a Random Forest Classifier on the Breast Cancer dataset and print feature importance scores\n",
        "from sklearn.ensemble import RandomForestClassifier\n",
        "from sklearn.datasets import load_breast_cancer\n",
        "from sklearn.model_selection import train_test_split\n",
        "import pandas as pd\n",
        "\n",
        "# 1. Load the Breast Cancer dataset\n",
        "data = load_breast_cancer()\n",
        "X = data.data\n",
        "y = data.target\n",
        "feature_names = data.feature_names\n",
        "\n",
        "# 2. Split the data into training and testing sets\n",
        "X_train, X_test, y_train, y_test = train_test_split(X, y, random_state=42)\n",
        "\n",
        "# 3. Define and train the Random Forest Classifier\n",
        "# n_estimators is the number of trees in the forest\n",
        "clf = RandomForestClassifier(n_estimators=100, random_state=42)\n",
        "clf.fit(X_train, y_train)\n",
        "\n",
        "# 4. Get feature importance scores\n",
        "feature_importances = clf.feature_importances_\n",
        "\n",
        "# 5. Create a pandas Series for better visualization and sorting\n",
        "importance_series = pd.Series(feature_importances, index=feature_names)\n",
        "\n",
        "# 6. Sort the feature importances and print\n",
        "sorted_importance = importance_series.sort_values(ascending=False)\n",
        "print(\"Feature Importance Scores:\")\n",
        "print(sorted_importance)"
      ],
      "metadata": {
        "colab": {
          "base_uri": "https://localhost:8080/"
        },
        "id": "1Zju-epFJ6Ba",
        "outputId": "e5854f27-2074-43d7-ef04-66f91b4d615d"
      },
      "execution_count": 3,
      "outputs": [
        {
          "output_type": "stream",
          "name": "stdout",
          "text": [
            "Feature Importance Scores:\n",
            "worst concave points       0.172295\n",
            "worst area                 0.123192\n",
            "mean concave points        0.090299\n",
            "mean concavity             0.083215\n",
            "worst radius               0.081277\n",
            "worst perimeter            0.071388\n",
            "mean perimeter             0.053146\n",
            "area error                 0.043551\n",
            "mean area                  0.042780\n",
            "mean radius                0.039711\n",
            "worst concavity            0.031740\n",
            "radius error               0.019517\n",
            "worst texture              0.016490\n",
            "worst compactness          0.015801\n",
            "mean texture               0.014604\n",
            "worst symmetry             0.013103\n",
            "mean compactness           0.011402\n",
            "worst smoothness           0.010335\n",
            "perimeter error            0.008682\n",
            "mean smoothness            0.008165\n",
            "concavity error            0.007014\n",
            "fractal dimension error    0.006583\n",
            "worst fractal dimension    0.005182\n",
            "concave points error       0.005047\n",
            "smoothness error           0.004644\n",
            "texture error              0.004600\n",
            "mean symmetry              0.004435\n",
            "mean fractal dimension     0.004434\n",
            "symmetry error             0.003714\n",
            "compactness error          0.003655\n",
            "dtype: float64\n"
          ]
        }
      ]
    },
    {
      "cell_type": "code",
      "source": [
        "# 4. Train a Random Forest Regressor and compare its performance with a single Decision Tree\n",
        "from sklearn.ensemble import RandomForestRegressor\n",
        "from sklearn.tree import DecisionTreeRegressor\n",
        "from sklearn.model_selection import train_test_split\n",
        "from sklearn.metrics import mean_squared_error\n",
        "import numpy as np\n",
        "\n",
        "# 1. Create a sample dataset for regression\n",
        "X = np.random.rand(100, 10)  # 100 samples, 10 features\n",
        "y = np.random.rand(100) * 100  # 100 samples, continuous target variable\n",
        "\n",
        "# 2. Split the data into training and testing sets\n",
        "X_train, X_test, y_train, y_test = train_test_split(X, y, test_size=0.2, random_state=42)\n",
        "\n",
        "# 3. Define and train the Random Forest Regressor\n",
        "rf_regressor = RandomForestRegressor(n_estimators=100, random_state=42)\n",
        "rf_regressor.fit(X_train, y_train)\n",
        "\n",
        "# 4. Define and train the single Decision Tree Regressor\n",
        "dt_regressor = DecisionTreeRegressor(random_state=42)\n",
        "dt_regressor.fit(X_train, y_train)\n",
        "\n",
        "# 5. Make predictions on the test set with both models\n",
        "y_pred_rf = rf_regressor.predict(X_test)\n",
        "y_pred_dt = dt_regressor.predict(X_test)\n",
        "\n",
        "# 6. Calculate and print the Mean Squared Error for both models\n",
        "mse_rf = mean_squared_error(y_test, y_pred_rf)\n",
        "mse_dt = mean_squared_error(y_test, y_pred_dt)\n",
        "\n",
        "print(f\"Random Forest Regressor MSE: {mse_rf}\")\n",
        "print(f\"Decision Tree Regressor MSE: {mse_dt}\")"
      ],
      "metadata": {
        "colab": {
          "base_uri": "https://localhost:8080/"
        },
        "id": "FTC4gn1UJ6D_",
        "outputId": "db1323b5-f24c-4255-901a-7c321d472bf8"
      },
      "execution_count": 4,
      "outputs": [
        {
          "output_type": "stream",
          "name": "stdout",
          "text": [
            "Random Forest Regressor MSE: 854.8385720823917\n",
            "Decision Tree Regressor MSE: 1953.7161602692636\n"
          ]
        }
      ]
    },
    {
      "cell_type": "code",
      "source": [
        "# 5. Compute the Out-of-Bag (OOB) Score for a Random Forest Classifier\n",
        "from sklearn.ensemble import RandomForestClassifier\n",
        "from sklearn.datasets import load_breast_cancer\n",
        "from sklearn.model_selection import train_test_split\n",
        "\n",
        "# 1. Load the Breast Cancer dataset\n",
        "data = load_breast_cancer()\n",
        "X = data.data\n",
        "y = data.target\n",
        "\n",
        "# 2. Split the data into training and testing sets (optional but good practice)\n",
        "X_train, X_test, y_train, y_test = train_test_split(X, y, random_state=42)\n",
        "\n",
        "# 3. Define and train the Random Forest Classifier with oob_score=True\n",
        "# n_estimators is the number of trees in the forest\n",
        "# oob_score=True enables the computation of the OOB score\n",
        "clf = RandomForestClassifier(n_estimators=100, oob_score=True, random_state=42)\n",
        "clf.fit(X_train, y_train)\n",
        "\n",
        "# 4. Get the OOB score\n",
        "oob_score = clf.oob_score_\n",
        "\n",
        "# 5. Print the OOB score\n",
        "print(f\"Out-of-Bag (OOB) score: {oob_score}\")"
      ],
      "metadata": {
        "colab": {
          "base_uri": "https://localhost:8080/"
        },
        "id": "rlekq_hcJ6Gy",
        "outputId": "53aec32f-2d3c-4fa7-88e0-e9c312778588"
      },
      "execution_count": 5,
      "outputs": [
        {
          "output_type": "stream",
          "name": "stdout",
          "text": [
            "Out-of-Bag (OOB) score: 0.960093896713615\n"
          ]
        }
      ]
    },
    {
      "cell_type": "code",
      "source": [
        "#  6. Train a Bagging Classifier using SVM as a base estimator and print accuracy\n",
        "from sklearn.ensemble import BaggingClassifier\n",
        "from sklearn.svm import SVC\n",
        "from sklearn.model_selection import train_test_split\n",
        "from sklearn.metrics import accuracy_score\n",
        "import numpy as np\n",
        "\n",
        "# 1. Create a sample dataset\n",
        "X = np.random.rand(100, 10)  # 100 samples, 10 features\n",
        "y = np.random.randint(0, 2, 100) # 100 samples, 2 classes\n",
        "\n",
        "# 2. Split the data into training and testing sets\n",
        "X_train, X_test, y_train, y_test = train_test_split(X, y, test_size=0.2, random_state=42)\n",
        "\n",
        "# 3. Define the base estimator (Support Vector Machine)\n",
        "# You can adjust parameters like kernel, C, gamma for the SVC\n",
        "base_estimator = SVC(gamma='auto')\n",
        "\n",
        "# 4. Define the Bagging Classifier\n",
        "# n_estimators is the number of base estimators in the ensemble\n",
        "bagging_classifier = BaggingClassifier(estimator=base_estimator, n_estimators=10, random_state=42)\n",
        "\n",
        "# 5. Train the Bagging Classifier\n",
        "bagging_classifier.fit(X_train, y_train)\n",
        "\n",
        "# 6. Make predictions on the test set\n",
        "y_pred = bagging_classifier.predict(X_test)\n",
        "\n",
        "# 7. Calculate and print the accuracy\n",
        "accuracy = accuracy_score(y_test, y_pred)\n",
        "print(f\"Model accuracy: {accuracy}\")"
      ],
      "metadata": {
        "colab": {
          "base_uri": "https://localhost:8080/"
        },
        "id": "hVZppG9GJ6JY",
        "outputId": "9f69e2de-4213-4841-f1fa-cb02bccaf0e2"
      },
      "execution_count": 6,
      "outputs": [
        {
          "output_type": "stream",
          "name": "stdout",
          "text": [
            "Model accuracy: 0.45\n"
          ]
        }
      ]
    },
    {
      "cell_type": "code",
      "source": [
        "# 7.  Train a Random Forest Classifier with different numbers of trees and compare accuracy\n",
        "from sklearn.ensemble import RandomForestClassifier\n",
        "from sklearn.datasets import load_breast_cancer\n",
        "from sklearn.model_selection import train_test_split\n",
        "from sklearn.metrics import accuracy_score\n",
        "\n",
        "# 1. Load the Breast Cancer dataset\n",
        "data = load_breast_cancer()\n",
        "X = data.data\n",
        "y = data.target\n",
        "\n",
        "# 2. Split the data into training and testing sets\n",
        "X_train, X_test, y_train, y_test = train_test_split(X, y, random_state=42)\n",
        "\n",
        "# 3. Define a list of different numbers of trees to try\n",
        "n_estimators_list = [10, 50, 100, 200]\n",
        "\n",
        "# 4. Iterate through the list of n_estimators and train/evaluate the model\n",
        "for n_estimators in n_estimators_list:\n",
        "    print(f\"Training Random Forest with n_estimators = {n_estimators}\")\n",
        "\n",
        "    # Define the Random Forest Classifier\n",
        "    clf = RandomForestClassifier(n_estimators=n_estimators, random_state=42)\n",
        "\n",
        "    # Train the classifier\n",
        "    clf.fit(X_train, y_train)\n",
        "\n",
        "    # Make predictions on the test set\n",
        "    y_pred = clf.predict(X_test)\n",
        "\n",
        "    # Calculate accuracy\n",
        "    accuracy = accuracy_score(y_test, y_pred)\n",
        "\n",
        "    # Print the accuracy\n",
        "    print(f\"Accuracy with {n_estimators} trees: {accuracy}\")\n",
        "    print(\"-\" * 30) # Separator for clarity"
      ],
      "metadata": {
        "colab": {
          "base_uri": "https://localhost:8080/"
        },
        "id": "qT_0UBjPJ6M2",
        "outputId": "78268585-9e0b-498a-bfa8-64e45ba9b5e2"
      },
      "execution_count": 7,
      "outputs": [
        {
          "output_type": "stream",
          "name": "stdout",
          "text": [
            "Training Random Forest with n_estimators = 10\n",
            "Accuracy with 10 trees: 0.951048951048951\n",
            "------------------------------\n",
            "Training Random Forest with n_estimators = 50\n",
            "Accuracy with 50 trees: 0.972027972027972\n",
            "------------------------------\n",
            "Training Random Forest with n_estimators = 100\n",
            "Accuracy with 100 trees: 0.965034965034965\n",
            "------------------------------\n",
            "Training Random Forest with n_estimators = 200\n",
            "Accuracy with 200 trees: 0.965034965034965\n",
            "------------------------------\n"
          ]
        }
      ]
    },
    {
      "cell_type": "code",
      "source": [
        "# 8. Train a Bagging Classifier using Logistic Regression as a base estimator and print AUC score\n",
        "from sklearn.ensemble import BaggingClassifier\n",
        "from sklearn.linear_model import LogisticRegression\n",
        "from sklearn.model_selection import train_test_split\n",
        "from sklearn.metrics import roc_auc_score\n",
        "import numpy as np\n",
        "\n",
        "# 1. Create a sample dataset for classification\n",
        "X = np.random.rand(100, 10)  # 100 samples, 10 features\n",
        "y = np.random.randint(0, 2, 100) # 100 samples, 2 classes\n",
        "\n",
        "# 2. Split the data into training and testing sets\n",
        "X_train, X_test, y_train, y_test = train_test_split(X, y, test_size=0.2, random_state=42)\n",
        "\n",
        "# 3. Define the base estimator (Logistic Regression)\n",
        "base_estimator = LogisticRegression(solver='liblinear', random_state=42) # Using 'liblinear' solver suitable for small datasets\n",
        "\n",
        "# 4. Define the Bagging Classifier\n",
        "# n_estimators is the number of base estimators in the ensemble\n",
        "bagging_classifier = BaggingClassifier(estimator=base_estimator, n_estimators=10, random_state=42)\n",
        "\n",
        "# 5. Train the Bagging Classifier\n",
        "bagging_classifier.fit(X_train, y_train)\n",
        "\n",
        "# 6. Make probability predictions on the test set\n",
        "# AUC requires probability estimates for the positive class\n",
        "y_pred_proba = bagging_classifier.predict_proba(X_test)[:, 1] # Get probabilities for the positive class (class 1)\n",
        "\n",
        "# 7. Calculate and print the AUC score\n",
        "auc_score = roc_auc_score(y_test, y_pred_proba)\n",
        "print(f\"Model AUC Score: {auc_score}\")"
      ],
      "metadata": {
        "colab": {
          "base_uri": "https://localhost:8080/"
        },
        "id": "dSft4SQ9LWo6",
        "outputId": "36ba8621-a622-400e-ca9c-f74b078abc79"
      },
      "execution_count": 8,
      "outputs": [
        {
          "output_type": "stream",
          "name": "stdout",
          "text": [
            "Model AUC Score: 0.5\n"
          ]
        }
      ]
    },
    {
      "cell_type": "code",
      "source": [
        "# 9. Train a Random Forest Regressor and analyze feature importance scores\n",
        "from sklearn.ensemble import RandomForestRegressor\n",
        "from sklearn.model_selection import train_test_split\n",
        "import numpy as np\n",
        "import pandas as pd\n",
        "\n",
        "# 1. Create a sample dataset for regression with named features\n",
        "X = np.random.rand(100, 10)  # 100 samples, 10 features\n",
        "y = np.random.rand(100) * 100  # 100 samples, continuous target variable\n",
        "feature_names = [f\"feature_{i+1}\" for i in range(X.shape[1])] # Create meaningful feature names\n",
        "\n",
        "# 2. Split the data into training and testing sets\n",
        "X_train, X_test, y_train, y_test = train_test_split(X, y, test_size=0.2, random_state=42)\n",
        "\n",
        "# 3. Define and train the Random Forest Regressor\n",
        "# n_estimators is the number of trees in the forest\n",
        "regressor = RandomForestRegressor(n_estimators=100, random_state=42)\n",
        "regressor.fit(X_train, y_train)\n",
        "\n",
        "# 4. Get feature importance scores\n",
        "feature_importances = regressor.feature_importances_\n",
        "\n",
        "# 5. Create a pandas Series for better visualization and sorting\n",
        "importance_series = pd.Series(feature_importances, index=feature_names)\n",
        "\n",
        "# 6. Sort the feature importances and print\n",
        "sorted_importance = importance_series.sort_values(ascending=False)\n",
        "print(\"Feature Importance Scores (Random Forest Regressor):\")\n",
        "print(sorted_importance)"
      ],
      "metadata": {
        "colab": {
          "base_uri": "https://localhost:8080/"
        },
        "id": "FqauPxKRLWjc",
        "outputId": "ef3750a2-ff94-4412-a584-081e790c959f"
      },
      "execution_count": 9,
      "outputs": [
        {
          "output_type": "stream",
          "name": "stdout",
          "text": [
            "Feature Importance Scores (Random Forest Regressor):\n",
            "feature_7     0.141923\n",
            "feature_8     0.139782\n",
            "feature_6     0.107635\n",
            "feature_9     0.102717\n",
            "feature_5     0.101941\n",
            "feature_10    0.094815\n",
            "feature_3     0.089349\n",
            "feature_1     0.083763\n",
            "feature_4     0.071193\n",
            "feature_2     0.066884\n",
            "dtype: float64\n"
          ]
        }
      ]
    },
    {
      "cell_type": "code",
      "source": [
        "# 10.  Train an ensemble model using both Bagging and Random Forest and compare accuracy\n",
        "from sklearn.ensemble import BaggingClassifier, RandomForestClassifier\n",
        "from sklearn.tree import DecisionTreeClassifier\n",
        "from sklearn.datasets import load_breast_cancer\n",
        "from sklearn.model_selection import train_test_split\n",
        "from sklearn.metrics import accuracy_score\n",
        "\n",
        "# 1. Load the Breast Cancer dataset\n",
        "data = load_breast_cancer()\n",
        "X = data.data\n",
        "y = data.target\n",
        "\n",
        "# 2. Split the data into training and testing sets\n",
        "X_train, X_test, y_train, y_test = train_test_split(X, y, random_state=42)\n",
        "\n",
        "# 3. Define and train the Bagging Classifier (with Decision Trees)\n",
        "bagging_clf = BaggingClassifier(estimator=DecisionTreeClassifier(), n_estimators=100, random_state=42)\n",
        "bagging_clf.fit(X_train, y_train)\n",
        "\n",
        "# 4. Define and train the Random Forest Classifier\n",
        "rf_clf = RandomForestClassifier(n_estimators=100, random_state=42)\n",
        "rf_clf.fit(X_train, y_train)\n",
        "\n",
        "# 5. Make predictions on the test set with both models\n",
        "y_pred_bagging = bagging_clf.predict(X_test)\n",
        "y_pred_rf = rf_clf.predict(X_test)\n",
        "\n",
        "# 6. Calculate and print the accuracy for both models\n",
        "accuracy_bagging = accuracy_score(y_test, y_pred_bagging)\n",
        "accuracy_rf = accuracy_score(y_test, y_pred_rf)\n",
        "\n",
        "print(f\"Bagging Classifier Accuracy: {accuracy_bagging}\")\n",
        "print(f\"Random Forest Classifier Accuracy: {accuracy_rf}\")"
      ],
      "metadata": {
        "colab": {
          "base_uri": "https://localhost:8080/"
        },
        "id": "XlRgkfv4LWhG",
        "outputId": "42b7adab-2dde-4253-e306-64cd32ab8277"
      },
      "execution_count": 10,
      "outputs": [
        {
          "output_type": "stream",
          "name": "stdout",
          "text": [
            "Bagging Classifier Accuracy: 0.958041958041958\n",
            "Random Forest Classifier Accuracy: 0.965034965034965\n"
          ]
        }
      ]
    },
    {
      "cell_type": "code",
      "source": [
        "# 11. Train a Random Forest Classifier and tune hyperparameters using GridSearchCV\n",
        "from sklearn.ensemble import RandomForestClassifier\n",
        "from sklearn.datasets import load_breast_cancer\n",
        "from sklearn.model_selection import train_test_split, GridSearchCV\n",
        "\n",
        "# 1. Load the Breast Cancer dataset\n",
        "data = load_breast_cancer()\n",
        "X = data.data\n",
        "y = data.target\n",
        "\n",
        "# 2. Split the data into training and testing sets\n",
        "X_train, X_test, y_train, y_test = train_test_split(X, y, random_state=42)\n",
        "\n",
        "# 3. Define the Random Forest Classifier model\n",
        "rf = RandomForestClassifier(random_state=42)\n",
        "\n",
        "# 4. Define the parameter grid for hyperparameter tuning\n",
        "param_grid = {\n",
        "    'n_estimators': [50, 100, 200], # Number of trees in the forest\n",
        "    'max_depth': [None, 10, 20, 30], # Maximum depth of the trees\n",
        "    'min_samples_split': [2, 5, 10], # Minimum number of samples required to split an internal node\n",
        "    'min_samples_leaf': [1, 2, 4]  # Minimum number of samples required to be at a leaf node\n",
        "}\n",
        "\n",
        "# 5. Define the GridSearchCV object\n",
        "# estimator: The model to tune\n",
        "# param_grid: The dictionary of hyperparameters and their values to try\n",
        "# cv: Number of cross-validation folds\n",
        "# scoring: Metric to evaluate the model (e.g., 'accuracy')\n",
        "# n_jobs: Number of jobs to run in parallel (-1 uses all available processors)\n",
        "grid_search = GridSearchCV(estimator=rf, param_grid=param_grid, cv=5, scoring='accuracy', n_jobs=-1)\n",
        "\n",
        "# 6. Perform the grid search on the training data\n",
        "print(\"Performing Grid Search...\")\n",
        "grid_search.fit(X_train, y_train)\n",
        "print(\"Grid Search complete.\")\n",
        "\n",
        "# 7. Print the best hyperparameters found\n",
        "print(\"Best hyperparameters found:\")\n",
        "print(grid_search.best_params_)\n",
        "\n",
        "# 8. Evaluate the best model on the test data\n",
        "best_rf = grid_search.best_estimator_\n",
        "accuracy = best_rf.score(X_test, y_test) # The .score() method for classifiers returns accuracy\n",
        "print(f\"Accuracy of the best model on the test set: {accuracy}\")"
      ],
      "metadata": {
        "colab": {
          "base_uri": "https://localhost:8080/"
        },
        "id": "XE9pkwLuLWe3",
        "outputId": "c8f52fe1-29e6-4d2f-d7d6-e02d48281344"
      },
      "execution_count": 11,
      "outputs": [
        {
          "output_type": "stream",
          "name": "stdout",
          "text": [
            "Performing Grid Search...\n",
            "Grid Search complete.\n",
            "Best hyperparameters found:\n",
            "{'max_depth': None, 'min_samples_leaf': 1, 'min_samples_split': 5, 'n_estimators': 50}\n",
            "Accuracy of the best model on the test set: 0.965034965034965\n"
          ]
        }
      ]
    },
    {
      "cell_type": "code",
      "source": [
        "# 12. Train a Bagging Regressor with different numbers of base estimators and compare performance\n",
        "from sklearn.ensemble import BaggingRegressor\n",
        "from sklearn.tree import DecisionTreeRegressor\n",
        "from sklearn.model_selection import train_test_split\n",
        "from sklearn.metrics import mean_squared_error\n",
        "import numpy as np\n",
        "\n",
        "# 1. Create a sample dataset for regression\n",
        "X = np.random.rand(100, 10)  # 100 samples, 10 features\n",
        "y = np.random.rand(100) * 100  # 100 samples, continuous target variable\n",
        "\n",
        "# 2. Split the data into training and testing sets\n",
        "X_train, X_test, y_train, y_test = train_test_split(X, y, test_size=0.2, random_state=42)\n",
        "\n",
        "# 3. Define the base estimator (Decision Tree Regressor)\n",
        "base_estimator = DecisionTreeRegressor()\n",
        "\n",
        "# 4. Define a list of different numbers of base estimators to try\n",
        "n_estimators_list = [10, 50, 100, 200]\n",
        "\n",
        "# 5. Iterate through the list of n_estimators and train/evaluate the model\n",
        "for n_estimators in n_estimators_list:\n",
        "    print(f\"Training Bagging Regressor with n_estimators = {n_estimators}\")\n",
        "\n",
        "    # Define the Bagging Regressor\n",
        "    bagging_regressor = BaggingRegressor(estimator=base_estimator, n_estimators=n_estimators, random_state=42)\n",
        "\n",
        "    # Train the regressor\n",
        "    bagging_regressor.fit(X_train, y_train)\n",
        "\n",
        "    # Make predictions on the test set\n",
        "    y_pred = bagging_regressor.predict(X_test)\n",
        "\n",
        "    # Calculate Mean Squared Error\n",
        "    mse = mean_squared_error(y_test, y_pred)\n",
        "\n",
        "    # Print the MSE\n",
        "    print(f\"Mean Squared Error (MSE) with {n_estimators} estimators: {mse}\")\n",
        "    print(\"-\" * 30) # Separator for clarity"
      ],
      "metadata": {
        "colab": {
          "base_uri": "https://localhost:8080/"
        },
        "id": "P_A1iXYMLWcb",
        "outputId": "dd1f32a2-e521-4a19-cb30-a9540b58a1dc"
      },
      "execution_count": 12,
      "outputs": [
        {
          "output_type": "stream",
          "name": "stdout",
          "text": [
            "Training Bagging Regressor with n_estimators = 10\n",
            "Mean Squared Error (MSE) with 10 estimators: 1204.981782219721\n",
            "------------------------------\n",
            "Training Bagging Regressor with n_estimators = 50\n",
            "Mean Squared Error (MSE) with 50 estimators: 962.6769459428197\n",
            "------------------------------\n",
            "Training Bagging Regressor with n_estimators = 100\n",
            "Mean Squared Error (MSE) with 100 estimators: 848.3038966281492\n",
            "------------------------------\n",
            "Training Bagging Regressor with n_estimators = 200\n",
            "Mean Squared Error (MSE) with 200 estimators: 828.1715879308489\n",
            "------------------------------\n"
          ]
        }
      ]
    },
    {
      "cell_type": "code",
      "source": [
        "# 13. Train a Random Forest Classifier and analyze misclassified samples\n",
        "from sklearn.ensemble import RandomForestClassifier\n",
        "from sklearn.datasets import load_breast_cancer\n",
        "from sklearn.model_selection import train_test_split\n",
        "from sklearn.metrics import classification_report\n",
        "import numpy as np\n",
        "\n",
        "# 1. Load the Breast Cancer dataset\n",
        "data = load_breast_cancer()\n",
        "X = data.data\n",
        "y = data.target\n",
        "feature_names = data.feature_names\n",
        "target_names = data.target_names\n",
        "\n",
        "# 2. Split the data into training and testing sets\n",
        "X_train, X_test, y_train, y_test = train_test_split(X, y, random_state=42)\n",
        "\n",
        "# 3. Define and train the Random Forest Classifier\n",
        "clf = RandomForestClassifier(n_estimators=100, random_state=42)\n",
        "clf.fit(X_train, y_train)\n",
        "\n",
        "# 4. Make predictions on the test set\n",
        "y_pred = clf.predict(X_test)\n",
        "\n",
        "# 5. Identify misclassified samples\n",
        "# Get the indices of samples where the predicted label does not match the true label\n",
        "misclassified_indices = np.where(y_test != y_pred)[0]\n",
        "\n",
        "# 6. Print information about misclassified samples\n",
        "print(\"Misclassified Samples:\")\n",
        "print(\"-\" * 30)\n",
        "\n",
        "if len(misclassified_indices) == 0:\n",
        "    print(\"No misclassified samples found in the test set.\")\n",
        "else:\n",
        "    for i in misclassified_indices:\n",
        "        print(f\"Sample Index in Test Set: {i}\")\n",
        "        print(f\"True Label: {target_names[y_test[i]]}\")\n",
        "        print(f\"Predicted Label: {target_names[y_pred[i]]}\")\n",
        "        # You can optionally print the feature values for the misclassified sample\n",
        "        # print(\"Feature Values:\")\n",
        "        # for feature_index, feature_value in enumerate(X_test[i]):\n",
        "        #     print(f\"  {feature_names[feature_index]}: {feature_value}\")\n",
        "        print(\"-\" * 30)\n",
        "\n",
        "# 7. Optional: Print a classification report for overall performance\n",
        "print(\"\\nClassification Report:\")\n",
        "print(classification_report(y_test, y_pred, target_names=target_names))"
      ],
      "metadata": {
        "colab": {
          "base_uri": "https://localhost:8080/"
        },
        "id": "163ud5mKLWaO",
        "outputId": "6b3635c6-81f9-403c-bfd7-e0f14cc94b2b"
      },
      "execution_count": 13,
      "outputs": [
        {
          "output_type": "stream",
          "name": "stdout",
          "text": [
            "Misclassified Samples:\n",
            "------------------------------\n",
            "Sample Index in Test Set: 8\n",
            "True Label: benign\n",
            "Predicted Label: malignant\n",
            "------------------------------\n",
            "Sample Index in Test Set: 20\n",
            "True Label: malignant\n",
            "Predicted Label: benign\n",
            "------------------------------\n",
            "Sample Index in Test Set: 77\n",
            "True Label: malignant\n",
            "Predicted Label: benign\n",
            "------------------------------\n",
            "Sample Index in Test Set: 82\n",
            "True Label: malignant\n",
            "Predicted Label: benign\n",
            "------------------------------\n",
            "Sample Index in Test Set: 108\n",
            "True Label: benign\n",
            "Predicted Label: malignant\n",
            "------------------------------\n",
            "\n",
            "Classification Report:\n",
            "              precision    recall  f1-score   support\n",
            "\n",
            "   malignant       0.96      0.94      0.95        54\n",
            "      benign       0.97      0.98      0.97        89\n",
            "\n",
            "    accuracy                           0.97       143\n",
            "   macro avg       0.96      0.96      0.96       143\n",
            "weighted avg       0.97      0.97      0.96       143\n",
            "\n"
          ]
        }
      ]
    },
    {
      "cell_type": "code",
      "source": [
        "# 14. Train a Bagging Classifier and compare its performance with a single Decision Tree Classifier\n",
        "from sklearn.ensemble import BaggingClassifier\n",
        "from sklearn.tree import DecisionTreeClassifier\n",
        "from sklearn.model_selection import train_test_split\n",
        "from sklearn.metrics import accuracy_score\n",
        "import numpy as np\n",
        "\n",
        "# 1. Create a sample dataset\n",
        "X = np.random.rand(100, 10)  # 100 samples, 10 features\n",
        "y = np.random.randint(0, 2, 100) # 100 samples, 2 classes\n",
        "\n",
        "# 2. Split the data into training and testing sets\n",
        "X_train, X_test, y_train, y_test = train_test_split(X, y, test_size=0.2, random_state=42)\n",
        "\n",
        "# 3. Define and train the single Decision Tree Classifier\n",
        "dt_classifier = DecisionTreeClassifier(random_state=42)\n",
        "dt_classifier.fit(X_train, y_train)\n",
        "\n",
        "# 4. Define the base estimator for Bagging (Decision Tree)\n",
        "base_estimator = DecisionTreeClassifier(random_state=42)\n",
        "\n",
        "# 5. Define and train the Bagging Classifier\n",
        "# n_estimators is the number of base estimators in the ensemble\n",
        "bagging_classifier = BaggingClassifier(estimator=base_estimator, n_estimators=10, random_state=42)\n",
        "bagging_classifier.fit(X_train, y_train)\n",
        "\n",
        "# 6. Make predictions on the test set with both models\n",
        "y_pred_dt = dt_classifier.predict(X_test)\n",
        "y_pred_bagging = bagging_classifier.predict(X_test)\n",
        "\n",
        "# 7. Calculate and print the accuracy for both models\n",
        "accuracy_dt = accuracy_score(y_test, y_pred_dt)\n",
        "accuracy_bagging = accuracy_score(y_test, y_pred_bagging)\n",
        "\n",
        "print(f\"Single Decision Tree Classifier Accuracy: {accuracy_dt}\")\n",
        "print(f\"Bagging Classifier Accuracy: {accuracy_bagging}\")"
      ],
      "metadata": {
        "colab": {
          "base_uri": "https://localhost:8080/"
        },
        "id": "waQn6QhHLWX2",
        "outputId": "84a422c4-8d8b-423a-a8b6-ec2d52d388bd"
      },
      "execution_count": 14,
      "outputs": [
        {
          "output_type": "stream",
          "name": "stdout",
          "text": [
            "Single Decision Tree Classifier Accuracy: 0.55\n",
            "Bagging Classifier Accuracy: 0.5\n"
          ]
        }
      ]
    },
    {
      "cell_type": "code",
      "source": [
        "# 15. Train a Random Forest Classifier and visualize the confusion matrix\n",
        "from sklearn.ensemble import RandomForestClassifier\n",
        "from sklearn.datasets import load_breast_cancer\n",
        "from sklearn.model_selection import train_test_split\n",
        "from sklearn.metrics import confusion_matrix, ConfusionMatrixDisplay\n",
        "import matplotlib.pyplot as plt\n",
        "\n",
        "# 1. Load the Breast Cancer dataset\n",
        "data = load_breast_cancer()\n",
        "X = data.data\n",
        "y = data.target\n",
        "target_names = data.target_names # Get target names for the confusion matrix labels\n",
        "\n",
        "# 2. Split the data into training and testing sets\n",
        "X_train, X_test, y_train, y_test = train_test_split(X, y, random_state=42)\n",
        "\n",
        "# 3. Define and train the Random Forest Classifier\n",
        "clf = RandomForestClassifier(n_estimators=100, random_state=42)\n",
        "clf.fit(X_train, y_train)\n",
        "\n",
        "# 4. Make predictions on the test set\n",
        "y_pred = clf.predict(X_test)\n",
        "\n",
        "# 5. Compute the confusion matrix\n",
        "cm = confusion_matrix(y_test, y_pred)\n",
        "\n",
        "# 6. Visualize the confusion matrix\n",
        "disp = ConfusionMatrixDisplay(confusion_matrix=cm, display_labels=target_names)\n",
        "disp.plot(cmap=plt.cm.Blues)\n",
        "plt.title(\"Confusion Matrix\")\n",
        "plt.show()"
      ],
      "metadata": {
        "colab": {
          "base_uri": "https://localhost:8080/",
          "height": 472
        },
        "id": "h4xBfJFFLWVq",
        "outputId": "d363cfca-247c-40c3-cd21-3b250bdf5df3"
      },
      "execution_count": 15,
      "outputs": [
        {
          "output_type": "display_data",
          "data": {
            "text/plain": [
              "<Figure size 640x480 with 2 Axes>"
            ],
            "image/png": "[encoded data removed]"
          },
          "metadata": {}
        }
      ]
    },
    {
      "cell_type": "code",
      "source": [
        "# 16. Train a Stacking Classifier using Decision Trees, SVM, and Logistic Regression, and compare accuracy\n",
        "from sklearn.ensemble import StackingClassifier\n",
        "from sklearn.tree import DecisionTreeClassifier\n",
        "from sklearn.svm import SVC\n",
        "from sklearn.linear_model import LogisticRegression\n",
        "from sklearn.model_selection import train_test_split\n",
        "from sklearn.metrics import accuracy_score\n",
        "from sklearn.ensemble import RandomForestClassifier # Using RandomForest as the final estimator for demonstration\n",
        "import numpy as np\n",
        "\n",
        "# 1. Create a sample dataset for classification\n",
        "X = np.random.rand(100, 10)  # 100 samples, 10 features\n",
        "y = np.random.randint(0, 2, 100) # 100 samples, 2 classes\n",
        "\n",
        "# 2. Split the data into training and testing sets\n",
        "X_train, X_test, y_train, y_test = train_test_split(X, y, test_size=0.2, random_state=42)\n",
        "\n",
        "# 3. Define the base estimators (level 0 models)\n",
        "estimators = [\n",
        "    ('dt', DecisionTreeClassifier(random_state=42)),\n",
        "    ('svc', SVC(gamma='auto', probability=True, random_state=42)), # probability=True is needed for stacking\n",
        "    ('lr', LogisticRegression(solver='liblinear', random_state=42))\n",
        "]\n",
        "\n",
        "# 4. Define the final estimator (level 1 model)\n",
        "# This model will be trained on the predictions of the base estimators\n",
        "final_estimator = RandomForestClassifier(n_estimators=10, random_state=42) # Using RandomForest for the final layer\n",
        "\n",
        "# 5. Define the Stacking Classifier\n",
        "# Pass the list of estimators and the final estimator\n",
        "stacking_clf = StackingClassifier(estimators=estimators, final_estimator=final_estimator, cv=5) # Using 5-fold cross-validation for stacking\n",
        "\n",
        "# 6. Train the Stacking Classifier\n",
        "print(\"Training Stacking Classifier...\")\n",
        "stacking_clf.fit(X_train, y_train)\n",
        "print(\"Stacking Classifier training complete.\")\n",
        "\n",
        "# 7. Make predictions with the Stacking Classifier\n",
        "y_pred_stacking = stacking_clf.predict(X_test)\n",
        "\n",
        "# 8. Calculate and print the accuracy of the Stacking Classifier\n",
        "accuracy_stacking = accuracy_score(y_test, y_pred_stacking)\n",
        "print(f\"Stacking Classifier Accuracy: {accuracy_stacking}\")\n",
        "print(\"-\" * 30)\n",
        "\n",
        "# 9. Optionally, train and evaluate the individual base estimators for comparison\n",
        "print(\"Individual Base Estimator Accuracies:\")\n",
        "for name, estimator in estimators:\n",
        "    estimator.fit(X_train, y_train)\n",
        "    y_pred_base = estimator.predict(X_test)\n",
        "    accuracy_base = accuracy_score(y_test, y_pred_base)\n",
        "    print(f\"{name.upper()} Accuracy: {accuracy_base}\")\n"
      ],
      "metadata": {
        "colab": {
          "base_uri": "https://localhost:8080/"
        },
        "id": "-l7xC-xGLWTT",
        "outputId": "06638a6e-36ce-42bf-dd20-f94327d822c5"
      },
      "execution_count": 16,
      "outputs": [
        {
          "output_type": "stream",
          "name": "stdout",
          "text": [
            "Training Stacking Classifier...\n",
            "Stacking Classifier training complete.\n",
            "Stacking Classifier Accuracy: 0.4\n",
            "------------------------------\n",
            "Individual Base Estimator Accuracies:\n",
            "DT Accuracy: 0.35\n",
            "SVC Accuracy: 0.45\n",
            "LR Accuracy: 0.4\n"
          ]
        }
      ]
    },
    {
      "cell_type": "code",
      "source": [
        "# 17. Train a Random Forest Classifier and print the top 5 most important features\n",
        "from sklearn.ensemble import RandomForestClassifier\n",
        "from sklearn.datasets import load_breast_cancer\n",
        "from sklearn.model_selection import train_test_split\n",
        "import pandas as pd\n",
        "\n",
        "# 1. Load the Breast Cancer dataset\n",
        "data = load_breast_cancer()\n",
        "X = data.data\n",
        "y = data.target\n",
        "feature_names = data.feature_names\n",
        "\n",
        "# 2. Split the data into training and testing sets (optional but good practice)\n",
        "X_train, X_test, y_train, y_test = train_test_split(X, y, random_state=42)\n",
        "\n",
        "# 3. Define and train the Random Forest Classifier\n",
        "# n_estimators is the number of trees in the forest\n",
        "clf = RandomForestClassifier(n_estimators=100, random_state=42)\n",
        "clf.fit(X_train, y_train)\n",
        "\n",
        "# 4. Get feature importance scores\n",
        "feature_importances = clf.feature_importances_\n",
        "\n",
        "# 5. Create a pandas Series for better visualization and sorting\n",
        "importance_series = pd.Series(feature_importances, index=feature_names)\n",
        "\n",
        "# 6. Sort the feature importances and print the top 5\n",
        "sorted_importance = importance_series.sort_values(ascending=False)\n",
        "print(\"Top 5 Most Important Features:\")\n",
        "print(sorted_importance.head(5))"
      ],
      "metadata": {
        "colab": {
          "base_uri": "https://localhost:8080/"
        },
        "id": "4oGUlPN1LWQ5",
        "outputId": "6972494f-d623-46d8-8d98-78b93d4f8e56"
      },
      "execution_count": 17,
      "outputs": [
        {
          "output_type": "stream",
          "name": "stdout",
          "text": [
            "Top 5 Most Important Features:\n",
            "worst concave points    0.172295\n",
            "worst area              0.123192\n",
            "mean concave points     0.090299\n",
            "mean concavity          0.083215\n",
            "worst radius            0.081277\n",
            "dtype: float64\n"
          ]
        }
      ]
    },
    {
      "cell_type": "code",
      "source": [
        "# 18. Train a Bagging Classifier and evaluate performance using Precision, Recall, and F1-score\n",
        "from sklearn.ensemble import BaggingClassifier\n",
        "from sklearn.tree import DecisionTreeClassifier\n",
        "from sklearn.model_selection import train_test_split\n",
        "from sklearn.metrics import precision_score, recall_score, f1_score, classification_report\n",
        "import numpy as np\n",
        "\n",
        "# 1. Create a sample dataset\n",
        "X = np.random.rand(100, 10)  # 100 samples, 10 features\n",
        "y = np.random.randint(0, 2, 100) # 100 samples, 2 classes\n",
        "\n",
        "# 2. Split the data into training and testing sets\n",
        "X_train, X_test, y_train, y_test = train_test_split(X, y, test_size=0.2, random_state=42)\n",
        "\n",
        "# 3. Define the base estimator (Decision Tree)\n",
        "base_estimator = DecisionTreeClassifier()\n",
        "\n",
        "# 4. Define the Bagging Classifier\n",
        "# n_estimators is the number of base estimators in the ensemble\n",
        "bagging_classifier = BaggingClassifier(estimator=base_estimator, n_estimators=10, random_state=42)\n",
        "\n",
        "# 5. Train the Bagging Classifier\n",
        "bagging_classifier.fit(X_train, y_train)\n",
        "\n",
        "# 6. Make predictions on the test set\n",
        "y_pred = bagging_classifier.predict(X_test)\n",
        "\n",
        "# 7. Calculate and print Precision, Recall, and F1-score\n",
        "precision = precision_score(y_test, y_pred)\n",
        "recall = recall_score(y_test, y_pred)\n",
        "f1 = f1_score(y_test, y_pred)\n",
        "\n",
        "print(f\"Model Precision: {precision}\")\n",
        "print(f\"Model Recall: {recall}\")\n",
        "print(f\"Model F1-Score: {f1}\")\n",
        "\n",
        "# Optional: Print a detailed classification report\n",
        "print(\"\\nClassification Report:\")\n",
        "print(classification_report(y_test, y_pred))"
      ],
      "metadata": {
        "colab": {
          "base_uri": "https://localhost:8080/"
        },
        "id": "mulsOvxvLWOZ",
        "outputId": "cf379c4c-bcb3-4a0a-bbaa-75c849454a5e"
      },
      "execution_count": 18,
      "outputs": [
        {
          "output_type": "stream",
          "name": "stdout",
          "text": [
            "Model Precision: 0.5\n",
            "Model Recall: 0.5555555555555556\n",
            "Model F1-Score: 0.5263157894736842\n",
            "\n",
            "Classification Report:\n",
            "              precision    recall  f1-score   support\n",
            "\n",
            "           0       0.60      0.55      0.57        11\n",
            "           1       0.50      0.56      0.53         9\n",
            "\n",
            "    accuracy                           0.55        20\n",
            "   macro avg       0.55      0.55      0.55        20\n",
            "weighted avg       0.55      0.55      0.55        20\n",
            "\n"
          ]
        }
      ]
    },
    {
      "cell_type": "code",
      "source": [
        "# 19. Train a Random Forest Classifier and analyze the effect of max_depth on accuracy\n",
        "from sklearn.ensemble import RandomForestClassifier\n",
        "from sklearn.datasets import load_breast_cancer\n",
        "from sklearn.model_selection import train_test_split\n",
        "from sklearn.metrics import accuracy_score\n",
        "import matplotlib.pyplot as plt\n",
        "\n",
        "# 1. Load the Breast Cancer dataset\n",
        "data = load_breast_cancer()\n",
        "X = data.data\n",
        "y = data.target\n",
        "\n",
        "# 2. Split the data into training and testing sets\n",
        "X_train, X_test, y_train, y_test = train_test_split(X, y, random_state=42)\n",
        "\n",
        "# 3. Define a list of different max_depth values to try\n",
        "# None means nodes are expanded until all leaves are pure or until all leaves contain less than min_samples_split samples\n",
        "max_depth_list = [None, 5, 10, 15, 20]\n",
        "\n",
        "# Lists to store accuracy for plotting\n",
        "train_accuracies = []\n",
        "test_accuracies = []\n",
        "\n",
        "# 4. Iterate through the list of max_depth values and train/evaluate the model\n",
        "print(\"Analyzing effect of max_depth on accuracy:\")\n",
        "print(\"-\" * 40)\n",
        "for max_depth in max_depth_list:\n",
        "    print(f\"Training Random Forest with max_depth = {max_depth}\")\n",
        "\n",
        "    # Define the Random Forest Classifier\n",
        "    # n_estimators is kept constant for this analysis\n",
        "    clf = RandomForestClassifier(n_estimators=100, max_depth=max_depth, random_state=42)\n",
        "\n",
        "    # Train the classifier\n",
        "    clf.fit(X_train, y_train)\n",
        "\n",
        "    # Make predictions on the training and test sets\n",
        "    y_pred_train = clf.predict(X_train)\n",
        "    y_pred_test = clf.predict(X_test)\n",
        "\n",
        "    # Calculate accuracies\n",
        "    train_accuracy = accuracy_score(y_train, y_pred_train)\n",
        "    test_accuracy = accuracy_score(y_test, y_pred_test)\n",
        "\n",
        "    # Store accuracies for plotting\n",
        "    train_accuracies.append(train_accuracy)\n",
        "    test_accuracies.append(test_accuracy)\n",
        "\n",
        "    # Print the accuracies\n",
        "    print(f\"  Training Accuracy: {train_accuracy:.4f}\")\n",
        "    print(f\"  Test Accuracy:     {test_accuracy:.4f}\")\n",
        "    print(\"-\" * 40)\n",
        "\n",
        "# 5. Plot the accuracies\n",
        "plt.figure(figsize=(10, 6))\n",
        "x_labels = [str(depth) for depth in max_depth_list]\n",
        "plt.plot(x_labels, train_accuracies, marker='o', label='Training Accuracy')\n",
        "plt.plot(x_labels, test_accuracies, marker='o', label='Test Accuracy')\n",
        "plt.xlabel(\"Max Depth\")\n",
        "plt.ylabel(\"Accuracy\")\n",
        "plt.title(\"Effect of Max Depth on Random Forest Accuracy\")\n",
        "plt.legend()\n",
        "plt.grid(True)\n",
        "plt.show()"
      ],
      "metadata": {
        "colab": {
          "base_uri": "https://localhost:8080/",
          "height": 943
        },
        "id": "mKfSsxITNei7",
        "outputId": "46024cdb-c09a-468b-a826-50d7f401e778"
      },
      "execution_count": 19,
      "outputs": [
        {
          "output_type": "stream",
          "name": "stdout",
          "text": [
            "Analyzing effect of max_depth on accuracy:\n",
            "----------------------------------------\n",
            "Training Random Forest with max_depth = None\n",
            "  Training Accuracy: 1.0000\n",
            "  Test Accuracy:     0.9650\n",
            "----------------------------------------\n",
            "Training Random Forest with max_depth = 5\n",
            "  Training Accuracy: 0.9930\n",
            "  Test Accuracy:     0.9650\n",
            "----------------------------------------\n",
            "Training Random Forest with max_depth = 10\n",
            "  Training Accuracy: 1.0000\n",
            "  Test Accuracy:     0.9650\n",
            "----------------------------------------\n",
            "Training Random Forest with max_depth = 15\n",
            "  Training Accuracy: 1.0000\n",
            "  Test Accuracy:     0.9650\n",
            "----------------------------------------\n",
            "Training Random Forest with max_depth = 20\n",
            "  Training Accuracy: 1.0000\n",
            "  Test Accuracy:     0.9650\n",
            "----------------------------------------\n"
          ]
        },
        {
          "output_type": "display_data",
          "data": {
            "text/plain": [
              "<Figure size 1000x600 with 1 Axes>"
            ],
            "image/png": "[encoded data removed]"
          },
          "metadata": {}
        }
      ]
    },
    {
      "cell_type": "code",
      "source": [
        "# 20.  Train a Bagging Regressor using different base estimators (DecisionTree and KNeighbors) and compare  performance\n",
        "from sklearn.ensemble import BaggingRegressor\n",
        "from sklearn.tree import DecisionTreeRegressor\n",
        "from sklearn.neighbors import KNeighborsRegressor\n",
        "from sklearn.model_selection import train_test_split\n",
        "from sklearn.metrics import mean_squared_error\n",
        "import numpy as np\n",
        "\n",
        "# 1. Create a sample dataset for regression\n",
        "X = np.random.rand(100, 10)  # 100 samples, 10 features\n",
        "y = np.random.rand(100) * 100  # 100 samples, continuous target variable\n",
        "\n",
        "# 2. Split the data into training and testing sets\n",
        "X_train, X_test, y_train, y_test = train_test_split(X, y, test_size=0.2, random_state=42)\n",
        "\n",
        "# 3. Define the base estimators\n",
        "dt_base_estimator = DecisionTreeRegressor(random_state=42)\n",
        "knn_base_estimator = KNeighborsRegressor(n_neighbors=5) # Example: using 5 neighbors\n",
        "\n",
        "# 4. Define the Bagging Regressors with different base estimators\n",
        "bagging_dt_regressor = BaggingRegressor(estimator=dt_base_estimator, n_estimators=10, random_state=42)\n",
        "bagging_knn_regressor = BaggingRegressor(estimator=knn_base_estimator, n_estimators=10, random_state=42)\n",
        "\n",
        "# 5. Train the Bagging Regressors\n",
        "print(\"Training Bagging Regressor with Decision Tree base estimator...\")\n",
        "bagging_dt_regressor.fit(X_train, y_train)\n",
        "print(\"Training Bagging Regressor with KNeighbors base estimator...\")\n",
        "bagging_knn_regressor.fit(X_train, y_train)\n",
        "print(\"Training complete.\")\n",
        "\n",
        "# 6. Make predictions on the test set with both models\n",
        "y_pred_dt = bagging_dt_regressor.predict(X_test)\n",
        "y_pred_knn = bagging_knn_regressor.predict(X_test)\n",
        "\n",
        "# 7. Calculate and print the Mean Squared Error for both models\n",
        "mse_dt = mean_squared_error(y_test, y_pred_dt)\n",
        "mse_knn = mean_squared_error(y_test, y_pred_knn)\n",
        "\n",
        "print(f\"Bagging Regressor (Decision Tree base) MSE: {mse_dt}\")\n",
        "print(f\"Bagging Regressor (KNeighbors base) MSE: {mse_knn}\")"
      ],
      "metadata": {
        "colab": {
          "base_uri": "https://localhost:8080/"
        },
        "id": "WWuvfhaQNedj",
        "outputId": "fb464d50-1d07-4200-c23b-cb73082b70d9"
      },
      "execution_count": 20,
      "outputs": [
        {
          "output_type": "stream",
          "name": "stdout",
          "text": [
            "Training Bagging Regressor with Decision Tree base estimator...\n",
            "Training Bagging Regressor with KNeighbors base estimator...\n",
            "Training complete.\n",
            "Bagging Regressor (Decision Tree base) MSE: 1015.8115468169684\n",
            "Bagging Regressor (KNeighbors base) MSE: 1244.990060951855\n"
          ]
        }
      ]
    },
    {
      "cell_type": "code",
      "source": [
        "# 21. Train a Random Forest Classifier and evaluate its performance using ROC-AUC Score\n",
        "from sklearn.ensemble import RandomForestClassifier\n",
        "from sklearn.datasets import load_breast_cancer\n",
        "from sklearn.model_selection import train_test_split\n",
        "from sklearn.metrics import roc_auc_score\n",
        "\n",
        "# 1. Load the Breast Cancer dataset\n",
        "data = load_breast_cancer()\n",
        "X = data.data\n",
        "y = data.target\n",
        "\n",
        "# 2. Split the data into training and testing sets\n",
        "X_train, X_test, y_train, y_test = train_test_split(X, y, random_state=42)\n",
        "\n",
        "# 3. Define and train the Random Forest Classifier\n",
        "# n_estimators is the number of trees in the forest\n",
        "clf = RandomForestClassifier(n_estimators=100, random_state=42)\n",
        "clf.fit(X_train, y_train)\n",
        "\n",
        "# 4. Make probability predictions on the test set\n",
        "# ROC-AUC requires probability estimates for the positive class\n",
        "y_pred_proba = clf.predict_proba(X_test)[:, 1] # Get probabilities for the positive class (class 1)\n",
        "\n",
        "# 5. Calculate and print the ROC-AUC score\n",
        "auc_score = roc_auc_score(y_test, y_pred_proba)\n",
        "print(f\"Model ROC-AUC Score: {auc_score}\")"
      ],
      "metadata": {
        "colab": {
          "base_uri": "https://localhost:8080/"
        },
        "id": "mHFMVxHbNebY",
        "outputId": "76933d4f-ac0b-4e38-91ae-0f0b9ab15527"
      },
      "execution_count": 21,
      "outputs": [
        {
          "output_type": "stream",
          "name": "stdout",
          "text": [
            "Model ROC-AUC Score: 0.9962546816479401\n"
          ]
        }
      ]
    },
    {
      "cell_type": "code",
      "source": [
        "# 22. Train a Bagging Classifier and evaluate its performance using cross-validatio.\n",
        "from sklearn.ensemble import BaggingClassifier\n",
        "from sklearn.tree import DecisionTreeClassifier\n",
        "from sklearn.model_selection import cross_val_score\n",
        "import numpy as np\n",
        "\n",
        "# 1. Create a sample dataset\n",
        "X = np.random.rand(100, 10)  # 100 samples, 10 features\n",
        "y = np.random.randint(0, 2, 100) # 100 samples, 2 classes\n",
        "\n",
        "# 2. Define the base estimator (Decision Tree)\n",
        "base_estimator = DecisionTreeClassifier()\n",
        "\n",
        "# 3. Define the Bagging Classifier\n",
        "# n_estimators is the number of base estimators in the ensemble\n",
        "bagging_classifier = BaggingClassifier(estimator=base_estimator, n_estimators=10, random_state=42)\n",
        "\n",
        "# 4. Perform cross-validation\n",
        "# cv: number of folds for cross-validation\n",
        "# scoring: the metric to evaluate (e.g., 'accuracy', 'precision', 'recall', 'f1', 'roc_auc')\n",
        "cv_scores = cross_val_score(bagging_classifier, X, y, cv=5, scoring='accuracy')\n",
        "\n",
        "# 5. Print the cross-validation scores and their mean\n",
        "print(\"Cross-validation scores (accuracy):\", cv_scores)\n",
        "print(\"Mean cross-validation accuracy:\", np.mean(cv_scores))"
      ],
      "metadata": {
        "colab": {
          "base_uri": "https://localhost:8080/"
        },
        "id": "tPEUPnBLNeZC",
        "outputId": "2b537380-0724-4948-d684-e3e4ff7343eb"
      },
      "execution_count": 22,
      "outputs": [
        {
          "output_type": "stream",
          "name": "stdout",
          "text": [
            "Cross-validation scores (accuracy): [0.4 0.6 0.2 0.3 0.7]\n",
            "Mean cross-validation accuracy: 0.44000000000000006\n"
          ]
        }
      ]
    },
    {
      "cell_type": "code",
      "source": [
        "# 23. Train a Random Forest Classifier and plot the Precision-Recall curv\u0010\n",
        "from sklearn.ensemble import RandomForestClassifier\n",
        "from sklearn.datasets import load_breast_cancer\n",
        "from sklearn.model_selection import train_test_split\n",
        "from sklearn.metrics import precision_recall_curve, PrecisionRecallDisplay\n",
        "import matplotlib.pyplot as plt\n",
        "\n",
        "# 1. Load the Breast Cancer dataset\n",
        "data = load_breast_cancer()\n",
        "X = data.data\n",
        "y = data.target\n",
        "\n",
        "# 2. Split the data into training and testing sets\n",
        "X_train, X_test, y_train, y_test = train_test_split(X, y, random_state=42)\n",
        "\n",
        "# 3. Define and train the Random Forest Classifier\n",
        "# It's important to train with a model that can output probabilities or decision function scores\n",
        "clf = RandomForestClassifier(n_estimators=100, random_state=42)\n",
        "clf.fit(X_train, y_train)\n",
        "\n",
        "# 4. Get the probability estimates for the positive class on the test set\n",
        "# The Precision-Recall curve requires probability estimates\n",
        "y_scores = clf.predict_proba(X_test)[:, 1]\n",
        "\n",
        "# 5. Compute the precision-recall curve points\n",
        "precision, recall, thresholds = precision_recall_curve(y_test, y_scores)\n",
        "\n",
        "# 6. Plot the Precision-Recall curve\n",
        "disp = PrecisionRecallDisplay(precision=precision, recall=recall)\n",
        "disp.plot()\n",
        "plt.title(\"Precision-Recall Curve\")\n",
        "plt.show()"
      ],
      "metadata": {
        "colab": {
          "base_uri": "https://localhost:8080/",
          "height": 472
        },
        "id": "-WdlYh3JNeWx",
        "outputId": "42048d84-fc65-4397-9961-6888164182fa"
      },
      "execution_count": 23,
      "outputs": [
        {
          "output_type": "display_data",
          "data": {
            "text/plain": [
              "<Figure size 640x480 with 1 Axes>"
            ],
            "image/png": "[encoded data removed]"
          },
          "metadata": {}
        }
      ]
    },
    {
      "cell_type": "code",
      "source": [
        "# 24. Train a Stacking Classifier with Random Forest and Logistic Regression and compare accuracy\n",
        "from sklearn.ensemble import StackingClassifier, RandomForestClassifier\n",
        "from sklearn.linear_model import LogisticRegression\n",
        "from sklearn.model_selection import train_test_split\n",
        "from sklearn.metrics import accuracy_score\n",
        "import numpy as np\n",
        "from sklearn.datasets import load_breast_cancer # Using a standard dataset for simplicity\n",
        "\n",
        "# 1. Load a sample dataset for classification\n",
        "data = load_breast_cancer()\n",
        "X = data.data\n",
        "y = data.target\n",
        "\n",
        "# 2. Split the data into training and testing sets\n",
        "X_train, X_test, y_train, y_test = train_test_split(X, y, test_size=0.2, random_state=42)\n",
        "\n",
        "# 3. Define the base estimators (level 0 models)\n",
        "estimators = [\n",
        "    ('rf', RandomForestClassifier(n_estimators=100, random_state=42)),\n",
        "    ('lr', LogisticRegression(solver='liblinear', random_state=42))\n",
        "]\n",
        "\n",
        "# 4. Define the final estimator (level 1 model)\n",
        "# This model will be trained on the predictions of the base estimators\n",
        "# Using Logistic Regression as the final estimator for this example\n",
        "final_estimator = LogisticRegression(solver='liblinear', random_state=42)\n",
        "\n",
        "# 5. Define the Stacking Classifier\n",
        "# Pass the list of estimators and the final estimator\n",
        "# cv is used for cross-validation to generate out-of-fold predictions for training the final estimator\n",
        "stacking_clf = StackingClassifier(estimators=estimators, final_estimator=final_estimator, cv=5)\n",
        "\n",
        "# 6. Train the Stacking Classifier\n",
        "print(\"Training Stacking Classifier...\")\n",
        "stacking_clf.fit(X_train, y_train)\n",
        "print(\"Stacking Classifier training complete.\")\n",
        "\n",
        "# 7. Make predictions with the Stacking Classifier\n",
        "y_pred_stacking = stacking_clf.predict(X_test)\n",
        "\n",
        "# 8. Calculate and print the accuracy of the Stacking Classifier\n",
        "accuracy_stacking = accuracy_score(y_test, y_pred_stacking)\n",
        "print(f\"Stacking Classifier Accuracy: {accuracy_stacking}\")\n",
        "print(\"-\" * 30)\n",
        "\n",
        "# 9. Optionally, train and evaluate the individual base estimators for comparison\n",
        "print(\"Individual Base Estimator Accuracies:\")\n",
        "for name, estimator in estimators:\n",
        "    # Create a new instance of the estimator to avoid issues with the stacking object\n",
        "    if name == 'rf':\n",
        "        individual_estimator = RandomForestClassifier(n_estimators=100, random_state=42)\n",
        "    elif name == 'lr':\n",
        "        individual_estimator = LogisticRegression(solver='liblinear', random_state=42)\n",
        "    else:\n",
        "        continue # Skip if not one of the defined base estimators\n",
        "\n",
        "    individual_estimator.fit(X_train, y_train)\n",
        "    y_pred_base = individual_estimator.predict(X_test)\n",
        "    accuracy_base = accuracy_score(y_test, y_pred_base)\n",
        "    print(f\"{name.upper()} Accuracy: {accuracy_base}\")"
      ],
      "metadata": {
        "colab": {
          "base_uri": "https://localhost:8080/"
        },
        "id": "h4WrCXpTNeUT",
        "outputId": "ec16c70f-9c63-4abd-93a3-9bb45fd952ab"
      },
      "execution_count": 24,
      "outputs": [
        {
          "output_type": "stream",
          "name": "stdout",
          "text": [
            "Training Stacking Classifier...\n",
            "Stacking Classifier training complete.\n",
            "Stacking Classifier Accuracy: 0.9736842105263158\n",
            "------------------------------\n",
            "Individual Base Estimator Accuracies:\n",
            "RF Accuracy: 0.9649122807017544\n",
            "LR Accuracy: 0.956140350877193\n"
          ]
        }
      ]
    },
    {
      "cell_type": "code",
      "source": [
        "# 25. Train a Bagging Regressor with different levels of bootstrap samples and compare performance\n",
        "from sklearn.ensemble import BaggingRegressor\n",
        "from sklearn.tree import DecisionTreeRegressor\n",
        "from sklearn.model_selection import train_test_split\n",
        "from sklearn.metrics import mean_squared_error\n",
        "import numpy as np\n",
        "\n",
        "# 1. Create a sample dataset for regression\n",
        "X = np.random.rand(100, 10)  # 100 samples, 10 features\n",
        "y = np.random.rand(100) * 100  # 100 samples, continuous target variable\n",
        "\n",
        "# 2. Split the data into training and testing sets\n",
        "X_train, X_test, y_train, y_test = train_test_split(X, y, test_size=0.2, random_state=42)\n",
        "\n",
        "# 3. Define the base estimator (Decision Tree Regressor)\n",
        "base_estimator = DecisionTreeRegressor(random_state=42)\n",
        "\n",
        "# 4. Define a list of different max_samples values to try\n",
        "# max_samples can be an integer (number of samples) or a float (proportion)\n",
        "max_samples_list = [0.5, 0.7, 1.0] # Trying different proportions of the dataset\n",
        "\n",
        "# 5. Iterate through the list of max_samples values and train/evaluate the model\n",
        "print(\"Analyzing effect of max_samples on Bagging Regressor performance:\")\n",
        "print(\"-\" * 60)\n",
        "for max_samples in max_samples_list:\n",
        "    print(f\"Training Bagging Regressor with max_samples = {max_samples}\")\n",
        "\n",
        "    # Define the Bagging Regressor\n",
        "    # n_estimators is kept constant for this analysis\n",
        "    bagging_regressor = BaggingRegressor(\n",
        "        estimator=base_estimator,\n",
        "        n_estimators=50, # Keep n_estimators constant to focus on max_samples\n",
        "        max_samples=max_samples,\n",
        "        random_state=42\n",
        "    )\n",
        "\n",
        "    # Train the regressor\n",
        "    bagging_regressor.fit(X_train, y_train)\n",
        "\n",
        "    # Make predictions on the test set\n",
        "    y_pred = bagging_regressor.predict(X_test)\n",
        "\n",
        "    # Calculate Mean Squared Error\n",
        "    mse = mean_squared_error(y_test, y_pred)\n",
        "\n",
        "    # Print the MSE\n",
        "    print(f\"  Mean Squared Error (MSE) with max_samples {max_samples}: {mse}\")\n",
        "    print(\"-\" * 60) # Separator for clarity"
      ],
      "metadata": {
        "colab": {
          "base_uri": "https://localhost:8080/"
        },
        "id": "i2XiCGgrNeR9",
        "outputId": "947f4a88-5b3e-4ad1-d976-0306d68f10bb"
      },
      "execution_count": 25,
      "outputs": [
        {
          "output_type": "stream",
          "name": "stdout",
          "text": [
            "Analyzing effect of max_samples on Bagging Regressor performance:\n",
            "------------------------------------------------------------\n",
            "Training Bagging Regressor with max_samples = 0.5\n",
            "  Mean Squared Error (MSE) with max_samples 0.5: 952.5728492418444\n",
            "------------------------------------------------------------\n",
            "Training Bagging Regressor with max_samples = 0.7\n",
            "  Mean Squared Error (MSE) with max_samples 0.7: 1006.1407516926745\n",
            "------------------------------------------------------------\n",
            "Training Bagging Regressor with max_samples = 1.0\n",
            "  Mean Squared Error (MSE) with max_samples 1.0: 971.7099500121967\n",
            "------------------------------------------------------------\n"
          ]
        }
      ]
    }
  ]
}